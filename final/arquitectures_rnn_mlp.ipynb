{
 "cells": [
  {
   "cell_type": "code",
   "execution_count": 29,
   "metadata": {},
   "outputs": [],
   "source": [
    "import tensorflow as tf\n",
    "from tensorflow.keras import layers, models, regularizers\n",
    "from tensorflow.keras.metrics import Precision, Recall\n",
    "from tensorflow.keras.optimizers import SGD\n",
    "from tensorflow.python.ops import rnn, rnn_cell\n",
    "\n",
    "import seaborn as sns\n",
    "import os\n",
    "import ast\n",
    "import pandas as pd\n",
    "import numpy as np\n",
    "# from google.colab import drive\n",
    "\n",
    "\n",
    "import tensorflow as tf\n",
    "from tensorflow.keras import layers, models, regularizers\n",
    "from tensorflow.keras.metrics import Precision, Recall\n",
    "from tensorflow.keras.optimizers import legacy\n",
    "from tensorflow.keras.backend import clear_session\n",
    "from tensorflow.python.ops import rnn, rnn_cell\n",
    "\n",
    "# Sklearn\n",
    "from sklearn.metrics import confusion_matrix\n",
    "from sklearn.model_selection import train_test_split, StratifiedKFold\n",
    "from sklearn.preprocessing import StandardScaler, LabelEncoder\n",
    "from sklearn.metrics import precision_score, recall_score"
   ]
  },
  {
   "cell_type": "markdown",
   "metadata": {},
   "source": [
    "# Reccurent Neural Network's Arquitecture"
   ]
  },
  {
   "cell_type": "markdown",
   "metadata": {},
   "source": [
    "######  Why don't we use SimpleRNN? SimpleRNN was replaced by LSTM to improve the ability to capture long-term dependencies. LSTM cells are designed to avoid the gradient vanishing problem, which is common in simple RNN networks.\n",
    "\n"
   ]
  },
  {
   "cell_type": "code",
   "execution_count": 1,
   "metadata": {},
   "outputs": [],
   "source": [
    "def build_rnn_model(input_shape, num_classes, l2_lambda, n_hidden_units):\n",
    "\n",
    "    # Number of features and timesteps\n",
    "    num_features = input_shape[1]\n",
    "    timesteps = input_shape[0]\n",
    "\n",
    "\n",
    "    # Build the model\n",
    "    model = models.Sequential([\n",
    "\n",
    "        layers.LSTM(n_hidden_units, return_sequences=True, input_shape=(timesteps, num_features),\n",
    "            dropout=0.25, recurrent_dropout=0.25,\n",
    "            kernel_regularizer=regularizers.l2(l2_lambda)),\n",
    "\n",
    "        layers.LSTM(n_hidden_units, dropout=0.25, recurrent_dropout=0.25,\n",
    "                    kernel_regularizer=regularizers.l2(l2_lambda)),\n",
    "\n",
    "        layers.Dense(num_classes, activation='softmax',\n",
    "                     kernel_regularizer=regularizers.l2(l2_lambda))\n",
    "    ])\n",
    "\n",
    "    return model\n",
    "\n"
   ]
  },
  {
   "cell_type": "markdown",
   "metadata": {},
   "source": [
    "# Multilayer Perceptron's Arquitecture"
   ]
  },
  {
   "cell_type": "code",
   "execution_count": 2,
   "metadata": {},
   "outputs": [],
   "source": [
    "\n",
    "\n",
    "def build_mlp_model(input_shape, num_classes, l2_lambda, n_hidden_units):\n",
    "    # Extração de num_features e timesteps do input_shape\n",
    "    timesteps= input_shape[0]\n",
    "    num_features = input_shape[1]\n",
    "\n",
    "    model = models.Sequential()\n",
    "\n",
    "    # A camada de entrada agora é definida explicitamente com o número correto de características\n",
    "    # A camada Flatten irá transformar a entrada 2D (timesteps x num_features) em uma entrada 1D\n",
    "    model.add(layers.Flatten(input_shape=(timesteps, num_features)))\n",
    "    \n",
    "    # Primeira camada oculta\n",
    "    # model.add(layers.Dense(512, activation='relu', kernel_regularizer=regularizers.l2(l2_lambda)))\n",
    "    model.add(layers.Dense(n_hidden_units, activation='relu', kernel_regularizer=regularizers.l2(l2_lambda)))\n",
    "    model.add(layers.Dropout(0.2))  # Camada de Dropout para regularização\n",
    "\n",
    "    # Segunda camada oculta\n",
    "    # model.add(layers.Dense(256, activation='relu', kernel_regularizer=regularizers.l2(l2_lambda)))\n",
    "    model.add(layers.Dense(n_hidden_units, activation='relu', kernel_regularizer=regularizers.l2(l2_lambda)))\n",
    "    model.add(layers.Dropout(0.2))\n",
    "\n",
    "    # Terceira camada oculta\n",
    "    model.add(layers.Dense(n_hidden_units, activation='relu', kernel_regularizer=regularizers.l2(l2_lambda)))\n",
    "    # model.add(layers.Dense(512, activation='relu', kernel_regularizer=regularizers.l2(l2_lambda)))\n",
    "\n",
    "\n",
    "    # Camada de saída\n",
    "    model.add(layers.Dense(num_classes, activation='softmax'))\n",
    "\n",
    "    return model"
   ]
  },
  {
   "cell_type": "code",
   "execution_count": null,
   "metadata": {},
   "outputs": [],
   "source": []
  }
 ],
 "metadata": {
  "kernelspec": {
   "display_name": "Python 3",
   "language": "python",
   "name": "python3"
  },
  "language_info": {
   "codemirror_mode": {
    "name": "ipython",
    "version": 3
   },
   "file_extension": ".py",
   "mimetype": "text/x-python",
   "name": "python",
   "nbconvert_exporter": "python",
   "pygments_lexer": "ipython3",
   "version": "3.9.5"
  }
 },
 "nbformat": 4,
 "nbformat_minor": 2
}
